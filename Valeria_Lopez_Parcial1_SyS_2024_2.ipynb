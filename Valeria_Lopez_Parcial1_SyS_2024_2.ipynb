{
  "nbformat": 4,
  "nbformat_minor": 0,
  "metadata": {
    "colab": {
      "private_outputs": true,
      "provenance": [],
      "include_colab_link": true
    },
    "kernelspec": {
      "name": "python3",
      "display_name": "Python 3"
    },
    "language_info": {
      "name": "python"
    }
  },
  "cells": [
    {
      "cell_type": "markdown",
      "metadata": {
        "id": "view-in-github",
        "colab_type": "text"
      },
      "source": [
        "<a href=\"https://colab.research.google.com/github/vlopezma/Se-ales-1/blob/main/Valeria_Lopez_Parcial1_SyS_2024_2.ipynb\" target=\"_parent\"><img src=\"https://colab.research.google.com/assets/colab-badge.svg\" alt=\"Open In Colab\"/></a>"
      ]
    },
    {
      "cell_type": "markdown",
      "source": [
        "# Parcial 1: Señales y Sistemas 2024-II\n",
        "\n",
        " ## Profesor: Andrés Marino Álvarez Meza, Ph.D.\n",
        "\n",
        "\n",
        "## Departamento de Ingeniería Eléctrica, Electrónica, y Computación\n",
        "## Universidad Nacional de Colombia - sede Manizales"
      ],
      "metadata": {
        "id": "1fWMHXCqNtQw"
      }
    },
    {
      "cell_type": "markdown",
      "source": [
        "# Instrucciones\n",
        "\n",
        "-- Para recibir el crédito total, sus respuestas deben estar justificadas de manera clara, detallada y concreta, mostrando los procedimientos y razonamientos paso a paso.\n",
        "\n",
        "-- Está permitido el uso de herramientas de inteligencia artificial (IA). Si las utiliza, por favor declare explícitamente cómo fueron empleadas en la resolución de cada pregunta. Incluya los prompts (consultas) y las iteraciones realizadas con las IA durante el desarrollo del parcial.\n",
        "\n",
        "-- La entrega del parcial debe realizarse antes de las 23:59 del 5 de diciembre de 2024 al correo electrónico amalvarezme@unal.edu.co mediante un enlace de GitHub.\n",
        "\n",
        "-- Los códigos deben estar debidamente comentados en las celdas correspondientes y explicados en celdas de texto (markdown). Los códigos que no incluyan comentarios ni discusiones no serán considerados en la evaluación final."
      ],
      "metadata": {
        "id": "15xl7tLEP6YA"
      }
    },
    {
      "cell_type": "markdown",
      "source": [
        "# Pregunta 1 (valor 2.5 puntos)\n",
        "\n",
        "Cuál es la señal obtenida en tiempo discreto al utilizar un conversor análogo digital de 5 bits con frecuencia de muestreo de $5kHz$, entrada análoga de -3.3 a 3.3 [v], aplicado a la señal continua $x(t) = 0.3 \\cos(1000\\pi t-\\pi/4) +\n",
        "0.6 \\sin(2000\\pi t) + 0.1 \\cos(11000\\pi t-\\pi)$?. Realizar la simulación del proceso de digitalización incluyendo al menos 3 ciclos de la señal $x(t)$.\n",
        "\n",
        "En caso de que la digitalización no sea apropiada, diseñe e implemente un conversor adecuado para la señal estudiada. El convesor debe permitir configurar la cantidad de bits, rango de la entrada análoga y la frecuencia de muestreo, indicándole al usuario si dicha frecuencia es apropiada o no, y graficar la señal continua, discreta y digital."
      ],
      "metadata": {
        "id": "jmI0zzVMRLNx"
      }
    },
    {
      "cell_type": "markdown",
      "source": [
        "Primero, definimos y graficamos la señal original x(t)"
      ],
      "metadata": {
        "id": "3cCrpdqp-5f2"
      }
    },
    {
      "cell_type": "code",
      "source": [
        "import numpy as np\n",
        "import matplotlib.pyplot as plt\n",
        "from scipy.spatial.distance import cdist\n",
        "\n",
        "\n",
        "# Señal original:\n",
        "t = np.linspace(0, 0.01, 10000) # rango de tiempo para evaluar la señal\n",
        "xt = 0.3*np.cos(1000*np.pi*t - np.pi/4) + 0.6*np.sin(2000*np.pi*t) + 0.1*np.cos(11000*np.pi*t - np.pi)\n",
        "\n",
        "# Graficar la señal x(t) continua\n",
        "plt.figure(figsize=(10, 6))\n",
        "plt.plot(t, xt, label='x(t)')\n",
        "plt.xlabel('Tiempo (s)')\n",
        "plt.ylabel(\"Amplitud\")\n",
        "plt.title('Señal continua')\n",
        "plt.legend()\n",
        "plt.grid(True)\n",
        "plt.show()\n"
      ],
      "metadata": {
        "id": "qLtzeAZiT2As"
      },
      "execution_count": null,
      "outputs": []
    },
    {
      "cell_type": "markdown",
      "source": [
        "La función my_ceropen se utiliza para normalizar la señal continua x(t) y ajustar sus valores al rango definido"
      ],
      "metadata": {
        "id": "IegTkUbyCLa0"
      }
    },
    {
      "cell_type": "code",
      "source": [
        "def my_ceropen(xt, ymin=-5, ymax=5):  # en general se pueden definir valores por defecto\n",
        "    '''\n",
        "    Código base para simular proceso de cero y pendiente.\n",
        "    Se ingresa un arreglo de numpy y los valores min y max después de cero y pendiente.\n",
        "    '''\n",
        "    xmax = max(xt)  # x.max()\n",
        "    xmin = min(xt)  # x.min()\n",
        "    m = (ymax - ymin) / (xmax - xmin)\n",
        "    c = ymin - m * xmin\n",
        "    yv = m * xt + c\n",
        "    return yv\n",
        "\n",
        "ycs = my_ceropen(xt, ymin=-3.3, ymax=3.3)\n"
      ],
      "metadata": {
        "id": "Pg3NHzrXyNlg"
      },
      "execution_count": null,
      "outputs": []
    },
    {
      "cell_type": "code",
      "source": [
        "#cero y pendiente\n",
        "ycs = my_ceropen(xt, ymin=-3.3,ymax=3.3)\n",
        "\n",
        "# Parámetros, número de bits y vector de cuantización\n",
        "nbits = 5\n",
        "rmin = -3.3\n",
        "rmax = 3.3\n",
        "ve = np.linspace(rmin,rmax,2**nbits) # rango de tiempo para evaluar la señal\n",
        "\n",
        "dn = cdist(ycs.reshape(-1,1),ve.reshape(-1,1))\n",
        "#se requiere identificar el elemento ve[j] más cercano a y[i] para genera señal cuantizada\n",
        "ind = np.argmin(d,axis=1) #el parámetro axis = 1 indica que busca la posición a lo largo de las columnas del elemento más pequeño en cada fila ind\n",
        "\n",
        "def my_cuantizador(yn, vq) : #yn punto a #cuantizar, vq vector de estados\n",
        "\n",
        "  Ne = vq.shape[0] #tamaño vector de estados\n",
        "  dn = cdist(yn.reshape(-1,1),vq.reshape(-1,1))#distancia yn a vector estados, reshape(-1,1) asegura vectores columna para poder utilizar cdist\n",
        "  ind = np.argmin(dn) #posición distancia min\n",
        "  return vq[ind]\n",
        "\n",
        "\n",
        "plt.plot(t,yq,c='r',label='ydig', linewidth=1)\n",
        "\n",
        "plt.legend()\n",
        "plt.grid()\n",
        "plt.xlabel('t')\n",
        "plt.ylabel('Amplitud')\n",
        "plt.show()"
      ],
      "metadata": {
        "id": "ABle-PTBv-RG"
      },
      "execution_count": null,
      "outputs": []
    },
    {
      "cell_type": "markdown",
      "source": [
        " Función que permite muestrear la señal continua y representar gráficamente sus valores discretos en función del tiempo."
      ],
      "metadata": {
        "id": "TUtMh-oM_2xs"
      }
    },
    {
      "cell_type": "code",
      "source": [
        "def mg(fs, duracion=0.01, titulo=''):\n",
        "    # Funcion que muestra y grafica la señal x(t) con la frecuencia de muestreo fs.\n",
        "\n",
        "    Ts = 1/fs   # Periodo de muestreo\n",
        "    t = np.arange(0, duracion, Ts)  # Vector de tiempo\n",
        "\n",
        "    # Señal x(t)\n",
        "    x_t = 0.3*np.cos(1000*np.pi*t - np.pi/4) + 0.6*np.sin(2000*np.pi*t) + 0.1*np.cos(11000*np.pi*t - np.pi)\n",
        "\n",
        "    # Gráfica de la señal muestreada\n",
        "    plt.figure(figsize=(10, 6))\n",
        "    plt.stem(t, x_t, linefmt='b-', markerfmt=\"bo\", basefmt=\"k\")\n",
        "    plt.title(titulo)\n",
        "    plt.xlabel('Tiempo (s)')\n",
        "    plt.ylabel('Amplitud')\n",
        "    plt.grid(True)\n",
        "    plt.show()"
      ],
      "metadata": {
        "id": "lybdl6FwjxOQ"
      },
      "execution_count": null,
      "outputs": []
    },
    {
      "cell_type": "code",
      "source": [
        "mg(5000, titulo='Señal discretizada x(t) a 5kHz')"
      ],
      "metadata": {
        "id": "RxWH2v3BmZqa"
      },
      "execution_count": null,
      "outputs": []
    },
    {
      "cell_type": "markdown",
      "source": [
        "De acuerdo con el teorema de Nyquist, la frecuencia de muestreo debe ser al menos el doble de la frecuencia máxima presente en la señal, para evitar aliasing. En este caso, la frecuencia de muestreo proporcionada (5kHz) no es adecuada, ya que es menor que Fmax = 22kHz. Por lo tanto, la señal no se puede reconstruir correctamente debido a la pérdida de información en el proceso de muestreo."
      ],
      "metadata": {
        "id": "mY-4_BT3pRtK"
      }
    },
    {
      "cell_type": "code",
      "source": [
        "mg(11000, titulo='Señal discretizada x(t) a 11kHz')"
      ],
      "metadata": {
        "id": "Ff9zAZcos4-M"
      },
      "execution_count": null,
      "outputs": []
    },
    {
      "cell_type": "markdown",
      "source": [
        "# Pregunta 2 (valor 2.5 puntos)\n",
        "\n",
        "Se dispone de un sistema modelado como una \"caja negra\" (ver celdas de código). Su tarea es analizar y comprobar mediante simulaciones si el sistema cumple con las propiedades de linealidad e invariancia en el tiempo. En caso de que el sistema sea lineal e invariante con el tiempo, determine su respuesta al impulso y utilice esta respuesta para calcular la salida del sistema ante la siguiente señal:\n",
        "\n",
        "$x[n] = \\sin[100 \\pi n ] + \\sin[600 \\pi n]$"
      ],
      "metadata": {
        "id": "5Za-WbLpSele"
      }
    },
    {
      "cell_type": "code",
      "source": [
        "# cargar sistema\n",
        "FILEID = \"1J9rhh0wWHZSBd8XmWGt1ZpCsMDuoUFmm\"\n",
        "!wget --load-cookies /tmp/cookies.txt \"https://docs.google.com/uc?export=download&confirm=$(wget --quiet --save-cookies /tmp/cookies.txt --keep-session-cookies --no-check-certificate 'https://docs.google.com/uc?export=download&id='$FILEID -O- | sed -rn 's/.*confirm=([0-9A-Za-z_]+).*/\\1\\n/p')&id=\"$FILEID -O P1_model.zip && rm -rf /tmp/cookies.txt\n",
        "!unzip -o P1_model.zip\n",
        "!dir"
      ],
      "metadata": {
        "id": "6yJMMFK6zo5K"
      },
      "execution_count": null,
      "outputs": []
    },
    {
      "cell_type": "code",
      "source": [
        "from P1_model import system_\n",
        "\n",
        "#sistema pregunta 2\n",
        "my_system = system_.My_System()\n",
        "my_system.create_()\n",
        "fs = my_system.fs #frecuencia de muestreo\n",
        "t = np.arange(-0.01, 0.02, 1/fs)  # Tiempo\n",
        "signal_u = np.heaviside(t,1) # función heaviside #SEÑAL DE ENTRADA\n",
        "#signal_u = np.heaviside(t,10) # función heaviside #SEÑAL DE ENTRADA\n",
        "y_u = my_system.predict(signal_u)\n",
        "\n",
        "# Visualización de las señales\n",
        "fig, axs = plt.subplots(2,1)\n",
        "axs[0].stem(t, signal_u, label='Señal de entrada')\n",
        "axs[0].set_xlabel('Tiempo (s)')\n",
        "axs[0].set_ylabel('Amplitud')\n",
        "axs[0].legend()\n",
        "axs[0].grid()\n",
        "axs[1].stem(t,y_u, label='Señal salida')\n",
        "axs[1].set_xlabel('Tiempo (s)')\n",
        "axs[1].set_ylabel('Amplitud')\n",
        "axs[1].legend()\n",
        "axs[1].grid()\n",
        "plt.tight_layout()\n",
        "plt.show()"
      ],
      "metadata": {
        "id": "ucVeFHEKENxu"
      },
      "execution_count": null,
      "outputs": []
    },
    {
      "cell_type": "code",
      "execution_count": null,
      "metadata": {
        "id": "DSfPWCpPNJa4"
      },
      "outputs": [],
      "source": []
    }
  ]
}