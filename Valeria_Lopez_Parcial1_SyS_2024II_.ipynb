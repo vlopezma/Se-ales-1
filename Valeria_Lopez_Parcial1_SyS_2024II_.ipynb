{
  "nbformat": 4,
  "nbformat_minor": 0,
  "metadata": {
    "colab": {
      "private_outputs": true,
      "provenance": [],
      "include_colab_link": true
    },
    "kernelspec": {
      "name": "python3",
      "display_name": "Python 3"
    },
    "language_info": {
      "name": "python"
    }
  },
  "cells": [
    {
      "cell_type": "markdown",
      "metadata": {
        "id": "view-in-github",
        "colab_type": "text"
      },
      "source": [
        "<a href=\"https://colab.research.google.com/github/vlopezma/Se-ales-1/blob/main/Valeria_Lopez_Parcial1_SyS_2024II_.ipynb\" target=\"_parent\"><img src=\"https://colab.research.google.com/assets/colab-badge.svg\" alt=\"Open In Colab\"/></a>"
      ]
    },
    {
      "cell_type": "markdown",
      "source": [
        "# Parcial 1: Señales y Sistemas 2024-II\n",
        "\n",
        " ## Profesor: Andrés Marino Álvarez Meza, Ph.D.\n",
        "\n",
        "\n",
        "## Departamento de Ingeniería Eléctrica, Electrónica, y Computación\n",
        "## Universidad Nacional de Colombia - sede Manizales"
      ],
      "metadata": {
        "id": "1fWMHXCqNtQw"
      }
    },
    {
      "cell_type": "markdown",
      "source": [
        "# Instrucciones\n",
        "\n",
        "-- Para recibir el crédito total, sus respuestas deben estar justificadas de manera clara, detallada y concreta, mostrando los procedimientos y razonamientos paso a paso.\n",
        "\n",
        "-- Está permitido el uso de herramientas de inteligencia artificial (IA). Si las utiliza, por favor declare explícitamente cómo fueron empleadas en la resolución de cada pregunta. Incluya los prompts (consultas) y las iteraciones realizadas con las IA durante el desarrollo del parcial.\n",
        "\n",
        "-- La entrega del parcial debe realizarse antes de las 23:59 del 5 de diciembre de 2024 al correo electrónico amalvarezme@unal.edu.co mediante un enlace de GitHub.\n",
        "\n",
        "-- Los códigos deben estar debidamente comentados en las celdas correspondientes y explicados en celdas de texto (markdown). Los códigos que no incluyan comentarios ni discusiones no serán considerados en la evaluación final."
      ],
      "metadata": {
        "id": "15xl7tLEP6YA"
      }
    },
    {
      "cell_type": "markdown",
      "source": [
        "# Pregunta 1 (valor 2.5 puntos)\n",
        "\n",
        "Cuál es la señal obtenida en tiempo discreto al utilizar un conversor análogo digital de 5 bits con frecuencia de muestreo de $5kHz$, entrada análoga de -3.3 a 3.3 [v], aplicado a la señal continua $x(t) = 0.3 \\cos(1000\\pi t-\\pi/4) +\n",
        "0.6 \\sin(2000\\pi t) + 0.1 \\cos(11000\\pi t-\\pi)$?. Realizar la simulación del proceso de digitalización incluyendo al menos 3 ciclos de la señal $x(t)$.\n",
        "\n",
        "En caso de que la digitalización no sea apropiada, diseñe e implemente un conversor adecuado para la señal estudiada. El convesor debe permitir configurar la cantidad de bits, rango de la entrada análoga y la frecuencia de muestreo, indicándole al usuario si dicha frecuencia es apropiada o no, y graficar la señal continua, discreta y digital."
      ],
      "metadata": {
        "id": "jmI0zzVMRLNx"
      }
    },
    {
      "cell_type": "markdown",
      "source": [
        "Primero, definimos y graficamos la señal original x(t)"
      ],
      "metadata": {
        "id": "3cCrpdqp-5f2"
      }
    },
    {
      "cell_type": "code",
      "source": [
        "import numpy as np\n",
        "import matplotlib.pyplot as plt\n",
        "from scipy.spatial.distance import cdist\n",
        "\n",
        "\n",
        "# Señal original:\n",
        "t = np.linspace(0, 0.01, 10000) # rango de tiempo para evaluar la señal\n",
        "xt = 0.3*np.cos(1000*np.pi*t - np.pi/4) + 0.6*np.sin(2000*np.pi*t) + 0.1*np.cos(11000*np.pi*t - np.pi)\n",
        "\n",
        "# Graficar la señal x(t) continua\n",
        "plt.figure(figsize=(10, 6))\n",
        "plt.plot(t, xt, label='x(t)')\n",
        "plt.xlabel('Tiempo (s)')\n",
        "plt.ylabel(\"Amplitud\")\n",
        "plt.title('Señal continua')\n",
        "plt.legend()\n",
        "plt.grid(True)\n",
        "plt.show()\n"
      ],
      "metadata": {
        "id": "qLtzeAZiT2As"
      },
      "execution_count": null,
      "outputs": []
    },
    {
      "cell_type": "markdown",
      "source": [
        "La función my_ceropen se utiliza para normalizar la señal continua x(t) y ajustar sus valores al rango definido"
      ],
      "metadata": {
        "id": "IegTkUbyCLa0"
      }
    },
    {
      "cell_type": "code",
      "source": [
        "def my_ceropen(xt, ymin=-5, ymax=5):  # en general se pueden definir valores por defecto\n",
        "    '''\n",
        "    Código base para simular proceso de cero y pendiente.\n",
        "    Se ingresa un arreglo de numpy y los valores min y max después de cero y pendiente.\n",
        "    '''\n",
        "    xmax = max(xt)  # x.max()\n",
        "    xmin = min(xt)  # x.min()\n",
        "    m = (ymax - ymin) / (xmax - xmin)\n",
        "    c = ymin - m * xmin\n",
        "    yv = m * xt + c\n",
        "    return yv\n",
        "\n",
        "ycs = my_ceropen(xt, ymin=-3.3, ymax=3.3)\n"
      ],
      "metadata": {
        "id": "Pg3NHzrXyNlg"
      },
      "execution_count": null,
      "outputs": []
    },
    {
      "cell_type": "code",
      "source": [
        "#cero y pendiente\n",
        "ycs = my_ceropen(xt, ymin=-3.3,ymax=3.3)\n",
        "\n",
        "# Parámetros, número de bits y vector de cuantización\n",
        "nbits = 5\n",
        "rmin = -3.3\n",
        "rmax = 3.3\n",
        "ve = np.linspace(rmin,rmax,2**nbits) # rango de tiempo para evaluar la señal\n",
        "\n",
        "dn = cdist(ycs.reshape(-1,1),ve.reshape(-1,1))\n",
        "#se requiere identificar el elemento ve[j] más cercano a y[i] para genera señal cuantizada\n",
        "ind = np.argmin(dn,axis=1) #el parámetro axis = 1 indica que busca la posición a lo largo de las columnas del elemento más pequeño en cada fila ind\n",
        "\n",
        "def my_cuantizador(yn, vq) : #yn punto a #cuantizar, vq vector de estados\n",
        "\n",
        "  Ne = vq.shape[0] #tamaño vector de estados\n",
        "  dn = cdist(yn.reshape(-1,1),vq.reshape(-1,1))#distancia yn a vector estados, reshape(-1,1) asegura vectores columna para poder utilizar cdist\n",
        "  ind = np.argmin(dn) #posición distancia min\n",
        "  return vq[ind]\n",
        "\n",
        "\n",
        "plt.plot(t,ycs,c='r',label='ydig')\n",
        "\n",
        "plt.legend()\n",
        "plt.grid()\n",
        "plt.xlabel('t')\n",
        "plt.ylabel('Amplitud')\n",
        "plt.show()"
      ],
      "metadata": {
        "id": "ABle-PTBv-RG"
      },
      "execution_count": null,
      "outputs": []
    },
    {
      "cell_type": "markdown",
      "source": [
        " Función que permite muestrear la señal continua y representar gráficamente sus valores discretos en función del tiempo."
      ],
      "metadata": {
        "id": "TUtMh-oM_2xs"
      }
    },
    {
      "cell_type": "code",
      "source": [
        "def mg(fs, duracion=0.01, titulo=''):\n",
        "    # Funcion que muestra y grafica la señal x(t) con la frecuencia de muestreo fs.\n",
        "\n",
        "    Ts = 1/fs   # Periodo de muestreo\n",
        "    t = np.arange(0, duracion, Ts)  # Vector de tiempo\n",
        "\n",
        "    # Señal x(t)\n",
        "    x_t = 0.3*np.cos(1000*np.pi*t - np.pi/4) + 0.6*np.sin(2000*np.pi*t) + 0.1*np.cos(11000*np.pi*t - np.pi)\n",
        "\n",
        "    # Gráfica de la señal muestreada\n",
        "    plt.figure(figsize=(10, 6))\n",
        "    plt.stem(t, x_t, linefmt='b-', markerfmt=\"bo\", basefmt=\"k\")\n",
        "    plt.title(titulo)\n",
        "    plt.xlabel('Tiempo (s)')\n",
        "    plt.ylabel('Amplitud')\n",
        "    plt.grid(True)\n",
        "    plt.show()"
      ],
      "metadata": {
        "id": "lybdl6FwjxOQ"
      },
      "execution_count": null,
      "outputs": []
    },
    {
      "cell_type": "code",
      "source": [
        "mg(5000, titulo='Señal discretizada x(t) a 5kHz')"
      ],
      "metadata": {
        "id": "RxWH2v3BmZqa"
      },
      "execution_count": null,
      "outputs": []
    },
    {
      "cell_type": "markdown",
      "source": [
        "De acuerdo con el teorema de Nyquist, la frecuencia de muestreo debe ser al menos el doble de la frecuencia máxima presente en la señal, para evitar aliasing. En este caso, la frecuencia de muestreo proporcionada (5kHz) no es adecuada, ya que es menor que Fmax = 22kHz. Por lo tanto, la señal no se puede reconstruir correctamente debido a la pérdida de información en el proceso de muestreo."
      ],
      "metadata": {
        "id": "mY-4_BT3pRtK"
      }
    },
    {
      "cell_type": "code",
      "source": [
        "mg(11000, titulo='Señal discretizada x(t) a 11kHz')"
      ],
      "metadata": {
        "id": "Ff9zAZcos4-M"
      },
      "execution_count": null,
      "outputs": []
    },
    {
      "cell_type": "markdown",
      "source": [
        "# Pregunta 2 (valor 2.5 puntos)\n",
        "\n",
        "Se dispone de un sistema modelado como una \"caja negra\" (ver celdas de código). Su tarea es analizar y comprobar mediante simulaciones si el sistema cumple con las propiedades de linealidad e invariancia en el tiempo. En caso de que el sistema sea lineal e invariante con el tiempo, determine su respuesta al impulso y utilice esta respuesta para calcular la salida del sistema ante la siguiente señal:\n",
        "\n",
        "$x[n] = \\sin[100 \\pi n ] + \\sin[600 \\pi n]$"
      ],
      "metadata": {
        "id": "5Za-WbLpSele"
      }
    },
    {
      "cell_type": "code",
      "source": [
        "# cargar sistema\n",
        "FILEID = \"1J9rhh0wWHZSBd8XmWGt1ZpCsMDuoUFmm\"\n",
        "!wget --load-cookies /tmp/cookies.txt \"https://docs.google.com/uc?export=download&confirm=$(wget --quiet --save-cookies /tmp/cookies.txt --keep-session-cookies --no-check-certificate 'https://docs.google.com/uc?export=download&id='$FILEID -O- | sed -rn 's/.*confirm=([0-9A-Za-z_]+).*/\\1\\n/p')&id=\"$FILEID -O P1_model.zip && rm -rf /tmp/cookies.txt\n",
        "!unzip -o P1_model.zip\n",
        "!dir"
      ],
      "metadata": {
        "id": "6yJMMFK6zo5K"
      },
      "execution_count": null,
      "outputs": []
    },
    {
      "cell_type": "code",
      "source": [
        "from P1_model import system_ # Importamos el sistema modelado como una \"caja negra\"\n",
        "\n",
        "my_system = system_.My_System() # Instanciamos el sistema\n",
        "my_system.create_()  # Inicializamos el sistema\n",
        "fs = my_system.fs  # Recuperamos la frecuencia de muestreo del sistema\n",
        "\n",
        "# Definición de la señal de entrada\n",
        "t = np.arange(-0.01, 0.02, 1/fs)  # vector de tiempo desde -0.01 s a 0.02 s con pasos de 1/fs\n",
        "signal_u = np.heaviside(t,1) # # Generamos una señal de tipo escalón unitario (Heaviside) como entrada\n",
        "y_u = my_system.predict(signal_u) # El sistema procesa la señal de entrada y genera la señal de salida\n",
        "\n",
        "# Visualización de las señales\n",
        "fig, axs = plt.subplots(2,1) # dos subgráficos: uno para la entrada y otro para la salida\n",
        "axs[0].stem(t, signal_u, label='Señal de entrada')\n",
        "axs[0].set_xlabel('Tiempo (s)')\n",
        "axs[0].set_ylabel('Amplitud')\n",
        "axs[0].legend()\n",
        "axs[0].grid()\n",
        "axs[1].stem(t,y_u, label='Señal salida')\n",
        "axs[1].set_xlabel('Tiempo (s)')\n",
        "axs[1].set_ylabel('Amplitud')\n",
        "axs[1].legend()\n",
        "axs[1].grid()\n",
        "plt.tight_layout()\n",
        "plt.show()"
      ],
      "metadata": {
        "id": "ucVeFHEKENxu"
      },
      "execution_count": null,
      "outputs": []
    },
    {
      "cell_type": "markdown",
      "source": [
        "Analizamos la respuesta del sistema a un escalón unitario, procesando la entrada y graficando la salida para observar su comportamiento. demás, evaluamos la linealidad del sistema, verificando si cumple la propiedad:\n",
        "$$\n",
        "S({ax_1[n]}+bx_2[n])=aS(x_1)+bS(x_2)\n",
        "$$\n"
      ],
      "metadata": {
        "id": "fXXrCKNjqOB-"
      }
    },
    {
      "cell_type": "code",
      "source": [
        "# Escalar la entrada por un factor a\n",
        "a = 2\n",
        "u_scaled = a * signal_u #señal original por el factor el factor a escalar\n",
        "\n",
        "# Salida del sistema para a*u(t)\n",
        "y2 = my_system.predict(u_scaled)\n",
        "\n",
        "# Escalar la salida original\n",
        "y1_scaled = a * y_u\n",
        "\n",
        "# Comparar gráficamente\n",
        "plt.figure(figsize=(10, 6))\n",
        "plt.plot(t, y2, label=\"Salida del sistema para a*u(t) (y2)\", linestyle=\"--\")\n",
        "plt.legend()\n",
        "plt.title(\"Verificación de Linealidad: Homogeneidad\")\n",
        "plt.xlabel(\"Tiempo [s]\")\n",
        "plt.ylabel(\"Amplitud\")\n",
        "plt.grid()\n",
        "plt.show()\n",
        "plt.figure(figsize=(10, 6))\n",
        "plt.plot(t, y1_scaled, label=\"a * Salida original (y1_scaled)\")\n",
        "plt.legend()\n",
        "plt.title(\"Verificación de Linealidad: Homogeneidad\")\n",
        "plt.xlabel(\"Tiempo [s]\")\n",
        "plt.ylabel(\"Amplitud\")\n",
        "plt.grid()\n",
        "plt.show()\n",
        "\n",
        "# Error numérico\n",
        "error = np.linalg.norm(y2 - y1_scaled)\n",
        "print(f\"Error entre y2 y y1_scaled: {error}\")"
      ],
      "metadata": {
        "id": "IB_ifyHJtbUF"
      },
      "execution_count": null,
      "outputs": []
    },
    {
      "cell_type": "markdown",
      "source": [
        "Verificamos la linealidad (homogeneidad) del sistema comparando la salida al escalar la entrada por 𝑎=2 (𝑦2) con la salida original escalada por el mismo factor (y1scaled​). Ambas salidas se grafican para compararlas, y se calcula el error numérico entre ellas. Si el error es pequeño, el sistema cumple con la propiedad de homogeneidad."
      ],
      "metadata": {
        "id": "mV1Pw7NUulak"
      }
    },
    {
      "cell_type": "code",
      "source": [
        "k = 0.005  # Tiempo de desplazamiento (k)\n",
        "\n",
        "# Generar la señal de entrada desplazada x[n-k]\n",
        "x = np.heaviside(t - k, 1)  # Función escalón unitario desplazada en k\n",
        "\n",
        "# Obtener la salida del sistema para la señal desplazada x[n-k]\n",
        "y = my_system.predict(x)  # Calculamos la salida del sistema con la entrada desplazada\n",
        "\n",
        "# Comparar gráficamente\n",
        "plt.figure(figsize=(12, 6))  # Configuramos el tamaño de la figura\n",
        "\n",
        "# Graficar la entrada desplazada x[n-k]\n",
        "plt.subplot(2, 1, 1)  # Primer gráfico (arriba)\n",
        "plt.plot(t, x, label=\"Entrada desplazada x[n-k]\")  # Señal de entrada desplazada\n",
        "plt.grid()  # Mostramos la cuadrícula\n",
        "plt.legend()  # Mostramos la leyenda\n",
        "plt.title(\"Entrada desplazada del sistema (x[n-k])\")  # Título del gráfico\n",
        "\n",
        "# Graficar la salida del sistema para x[n-k]\n",
        "plt.subplot(2, 1, 2)  # Segundo gráfico (abajo)\n",
        "plt.plot(t, y, label=\"Salida desplazada y[n-k]\", linestyle=\"--\")  # Salida correspondiente\n",
        "plt.legend()  # Mostramos la leyenda\n",
        "plt.title(\"Salida del sistema para entrada desplazada (y[n-k])\")  # Título del gráfico\n",
        "\n",
        "# Ajustes y visualización\n",
        "plt.xlabel(\"Tiempo [s]\")  # Etiqueta del eje X\n",
        "plt.grid()  # Mostramos la cuadrícula\n",
        "plt.tight_layout()  # Ajustamos los espacios entre gráficos\n",
        "plt.show()  # Mostramos la figura\n",
        "\n",
        "# Comparación numérica de las salidas (deshabilitada en el código actual)\n",
        "# error = np.linalg.norm(y - yu1)  # Calcula el error entre salidas si es necesario\n",
        "# print(f\"Error entre las salidas: {error}\")  # Muestra el error numérico si está habilitado\n"
      ],
      "metadata": {
        "id": "zlF5bIxgu_Xi"
      },
      "execution_count": null,
      "outputs": []
    },
    {
      "cell_type": "markdown",
      "source": [
        "Verificamos la invarianza en el tiempo del sistema al desplazar la entrada escalón unitario en 𝑘=0.005 segundos. Se calcula la salida para esta entrada desplazada y se grafican tanto la entrada como la salida para analizar si el sistema responde únicamente con un desplazamiento temporal, manteniendo la forma de la señal."
      ],
      "metadata": {
        "id": "chJ7dzaSwNeW"
      }
    },
    {
      "cell_type": "code",
      "source": [
        "g = np.diff(y_u)  # Calcula las diferencias entre valores consecutivos de la salida 'y_u', representando su derivada discreta.\n",
        "\n",
        "min_len = min(len(t), len(g))  # Encuentra el tamaño mínimo entre los vectores de tiempo 't' y las diferencias 'g'.\n",
        "\n",
        "t = t[:min_len]  # Ajusta el tamaño del vector de tiempo 't' para que coincida con el tamaño de 'g'.\n",
        "x1 = x[:min_len]  # Ajusta el tamaño del vector 'x1' para que coincida con 'g' (necesario si se grafica contra 'g').\n",
        "\n",
        "# Graficar la señal g en función del tiempo t\n",
        "plt.stem(t, g, label='x1')  # Grafica la derivada discreta de 'y_u' (g) como un gráfico de líneas con marcadores.\n",
        "plt.legend()  # Agrega una leyenda al gráfico.\n",
        "plt.grid()  # Activa la cuadrícula para facilitar la lectura de los datos.\n",
        "plt.xlabel('t')  # Etiqueta el eje X como 't' (tiempo).\n",
        "plt.show()  # Muestra el gráfico.\n"
      ],
      "metadata": {
        "id": "BNlczIknwoUJ"
      },
      "execution_count": null,
      "outputs": []
    },
    {
      "cell_type": "code",
      "source": [
        "n = t  # Asignamos el vector de tiempo 't' al nuevo vector 'n'.\n",
        "print(len(n))  # Imprimimos la longitud del vector 'n' para verificar su tamaño.\n",
        "\n",
        "# Generamos la señal 'xn' como la suma de dos ondas seno con diferentes frecuencias.\n",
        "xn = np.sin(100 * np.pi * n) + np.sin(600 * np.pi * n)\n",
        "\n",
        "# Calculamos la convolución de las señales 'g' (derivada discreta anterior) y 'xn'.\n",
        "con = np.convolve(g, xn)\n",
        "\n",
        "# Aseguramos que 'n' y 'con' tengan el mismo tamaño, tomando el tamaño mínimo.\n",
        "min_len = min(len(n), len(con))\n",
        "n = n[:min_len]  # Ajustamos 'n' al tamaño mínimo.\n",
        "con = con[:min_len]  # Ajustamos 'con' al tamaño mínimo.\n",
        "\n",
        "# Graficamos la señal convolucionada 'con' contra el tiempo 'n'.\n",
        "plt.stem(n, con, label='x1')  # Usamos un gráfico de líneas con marcadores para 'con'.\n",
        "plt.legend()  # Agregamos una leyenda al gráfico.\n",
        "plt.grid()  # Mostramos la cuadrícula para facilitar la lectura.\n",
        "plt.xlabel('t')  # Etiquetamos el eje X como 't' (tiempo).\n",
        "plt.show()  # Mostramos el gráfico.\n"
      ],
      "metadata": {
        "id": "EUmvFNoBxcXb"
      },
      "execution_count": null,
      "outputs": []
    },
    {
      "cell_type": "code",
      "source": [
        "def convgraf(h, x):\n",
        "    \"\"\"\n",
        "    Función para calcular y visualizar el proceso de convolución paso a paso.\n",
        "\n",
        "    Parámetros:\n",
        "    - h: Vector del filtro (o señal desplazada).\n",
        "    - x: Vector de la señal de entrada.\n",
        "\n",
        "    Retorna:\n",
        "    - xm: Matriz con los reflejos y desplazamientos de x.\n",
        "    - ym: Matriz con los resultados parciales de la convolución.\n",
        "    - hm: Versión extendida del filtro h.\n",
        "    \"\"\"\n",
        "    lx = len(x)  # Longitud de la señal de entrada x\n",
        "    lh = len(h)  # Longitud del filtro h\n",
        "    M = 2 * lx + lh  # Tamaño máximo necesario para visualizar el proceso completo\n",
        "\n",
        "    # Inicializamos las matrices para reflejos, desplazamientos y acumulaciones\n",
        "    xm = np.zeros((M, M))  # Matriz para reflejos y desplazamientos de x\n",
        "    hm = np.r_[np.zeros((lx, 1)), h, np.zeros((lx, 1))]  # Extensión del filtro h con ceros\n",
        "    ym = np.zeros((M, M))  # Matriz para resultados parciales de convolución\n",
        "\n",
        "    # Proceso de convolución paso a paso\n",
        "    for i in range(M - lx + 1):  # Itera por todos los desplazamientos posibles\n",
        "        xm[i:i+lx, i] = np.flip(x).reshape(-1)  # Refleja (flip) y desplaza la señal de entrada x\n",
        "        ym[i, i] = xm[:, i].T.dot(hm)  # Calcula el producto punto entre x reflejada y h\n",
        "\n",
        "    return xm, ym, hm  # Devuelve las matrices para análisis y graficación\n",
        "\n",
        "def plot_conv(k, xm, ym, hm):\n",
        "    \"\"\"\n",
        "    Función para graficar un paso del proceso de convolución.\n",
        "\n",
        "    Parámetros:\n",
        "    - k: Paso actual de la convolución.\n",
        "    - xm: Matriz con reflejos y desplazamientos de x.\n",
        "    - ym: Matriz con los resultados parciales.\n",
        "    - hm: Versión extendida del filtro h.\n",
        "    \"\"\"\n",
        "    plt.stem(xm[:, k], markerfmt='+', label='$x[k]$')  # Gráfica de x reflejada y desplazada en el paso k\n",
        "    plt.stem(hm, linefmt='g', markerfmt='.', label='$h[n-k]$')  # Gráfica del filtro h desplazado\n",
        "    plt.stem(ym[:k, :].sum(axis=0), markerfmt='s', linefmt='r',\n",
        "             label='$y[n]=\\sum^{\\infty}_{k=-\\infty}x[k]h[n-k]$')  # Salida acumulada hasta el paso k\n",
        "    plt.legend()  # Añade leyendas al gráfico\n",
        "    plt.show()  # Muestra la gráfica\n",
        "    return\n",
        "\n",
        "# Reformateo de las señales de entrada y filtro\n",
        "g1 = g.reshape(-1, 1)  # Convierte la señal g en un vector columna\n",
        "x1n = xn.reshape(-1, 1)  # Convierte la señal xn en un vector columna\n",
        "\n",
        "# Cálculo del proceso de convolución\n",
        "xm, ym, hm = convgraf(x1n, g1)  # Calcula las matrices para visualizar la convolución\n",
        "\n",
        "# Ejemplo de graficación de un paso específico\n",
        "k = 10  # Escoge un paso específico para graficar\n",
        "plot_conv(k, xm, ym, hm)  # Muestra el gráfico interactivo para el paso k\n"
      ],
      "metadata": {
        "id": "dTMY8qQ4yh0i"
      },
      "execution_count": null,
      "outputs": []
    },
    {
      "cell_type": "code",
      "source": [
        "# Función interactiva para explorar el proceso de convolución\n",
        "@interact(k=(0, xm.shape[0] - len(x1n), 1))  # Control deslizante para elegir el paso k\n",
        "def show_frame(k=0):  # Función que grafica el paso actual de convolución\n",
        "  plot_conv(k, xm, ym, hm)  # Llama a la función de graficación para el paso seleccionado\n",
        "\n",
        "plt.show()"
      ],
      "metadata": {
        "id": "QGxCheXwzSo-"
      },
      "execution_count": null,
      "outputs": []
    },
    {
      "cell_type": "markdown",
      "source": [
        "Con base en las simulaciones realizadas, se concluye que el sistema cumple con las propiedades de linealidad e invarianza en el tiempo, lo que permite clasificarlo como un sistema SLIT (Sistema Lineal e Invariante en el Tiempo). Esto se verificó mediante pruebas de homogeneidad, aditividad y desplazamiento temporal, las cuales confirmaron que el sistema responde de manera consistente y proporcional a las señales de entrada. Además, se utilizó su respuesta al impulso para calcular correctamente la salida ante la señal compuesta\n",
        "𝑥\n",
        "[\n",
        "𝑛\n",
        "]\n",
        "=\n",
        "sin\n",
        "⁡\n",
        "(\n",
        "100\n",
        "𝜋\n",
        "𝑛\n",
        ")\n",
        "+\n",
        "sin\n",
        "⁡\n",
        "(\n",
        "600\n",
        "𝜋\n",
        "𝑛\n",
        ")\n",
        "x[n]=sin(100πn)+sin(600πn), validando su comportamiento como un SLIT.\n"
      ],
      "metadata": {
        "id": "PcmuiqZ60MCy"
      }
    },
    {
      "cell_type": "markdown",
      "source": [
        "Durante la resolución del parcial, utilicé herramientas de inteliencia artificial para aclarar conceptos, obtener apoyo en la estructuración del código, y recibir orientación en la interpretación y análisis de los resultados, asi como también me apoyé de los cuadernos que hay subidos en el github.\n"
      ],
      "metadata": {
        "id": "FVCLS2kG1ate"
      }
    }
  ]
}