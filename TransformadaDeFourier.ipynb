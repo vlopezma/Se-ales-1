{
  "nbformat": 4,
  "nbformat_minor": 0,
  "metadata": {
    "colab": {
      "provenance": [],
      "authorship_tag": "ABX9TyPiGROcUJFzHL4AdAMBdBhf",
      "include_colab_link": true
    },
    "kernelspec": {
      "name": "python3",
      "display_name": "Python 3"
    },
    "language_info": {
      "name": "python"
    }
  },
  "cells": [
    {
      "cell_type": "markdown",
      "metadata": {
        "id": "view-in-github",
        "colab_type": "text"
      },
      "source": [
        "<a href=\"https://colab.research.google.com/github/vlopezma/Se-ales-1/blob/main/TransformadaDeFourier.ipynb\" target=\"_parent\"><img src=\"https://colab.research.google.com/assets/colab-badge.svg\" alt=\"Open In Colab\"/></a>"
      ]
    },
    {
      "cell_type": "markdown",
      "source": [
        "# **Taller transformada de Fourier - 16/01/2025**"
      ],
      "metadata": {
        "id": "iCfMVNBb-qSv"
      }
    },
    {
      "cell_type": "markdown",
      "source": [
        "##### Explique las semejanzas y diferencias entre la serie de Fourier (exponencial, trigonomética y compacta) y la transformada de Fourier en tiempo discreto (DTFT) y transformada discreta de Fourier (DFT). Considere las diferentes combinaciones entre: espectro continuo y discreto y señal en tiempo continuo y discreto. Además, consulte en qué consiste el algoritmo Fast Fourier Transfor (FFT) y su utilidad para el cálculo de la transformada discreta de Fourier. Explique en detalle el algoritmo FFT y su costo computacional vs el de la transformada discreta."
      ],
      "metadata": {
        "id": "QEXfSUm-_dDP"
      }
    },
    {
      "cell_type": "markdown",
      "source": [
        "##### Todas estas comparten que descomponen señales en sus componentes frecuenciales, nos sirven para analizar señales dependiendo de lo que necesitemos, y el tipo de señal, reconstruyendolas a partir de los componentes. Tienen en común propiedades como linealidad, periodicidad y simetría. Entre las diferencias que tenemos, la serie de Fourier la utilizamos para las señales periodicas en tiempo continuo, y esta descompone la señal en armónicos, generando un espectro discreto, la transformada de Fourier en tiempo discreto analiza señales discretas infinitas y genera un espectro continuo, y la transformada discreta de Fourier es para señales discretas y finitas, generando un espectro discreto y periódico. Los usos de cada una son diferentes, asi como la periodicidad en la frecuencia y duración de la señal, por ejemplo, hablando de la periodicidad en la frecuencia de cada una, la serie de Fourier no es periódica, mientras que la DTFT y DFT son periodicas\n",
        "\n",
        " ##### El algoritmo Fast Fourier Transfor (FFT)"
      ],
      "metadata": {
        "id": "C7-ulGfvJlc2"
      }
    },
    {
      "cell_type": "markdown",
      "source": [],
      "metadata": {
        "id": "DOSvBfqUPd0v"
      }
    }
  ]
}